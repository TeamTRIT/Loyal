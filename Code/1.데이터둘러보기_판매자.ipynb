{
 "cells": [
  {
   "cell_type": "markdown",
   "metadata": {},
   "source": [
    "# 데이터 둘러보기, 판매자: "
   ]
  },
  {
   "cell_type": "markdown",
   "metadata": {},
   "source": [
    "내가 필요한 데이터(merchant_id, cat_id, item_id 등)는 user log에 다 있으니까 user_log_format1.csv 를 쓸 것. "
   ]
  },
  {
   "cell_type": "code",
   "execution_count": 1,
   "metadata": {
    "scrolled": true
   },
   "outputs": [
    {
     "data": {
      "text/plain": [
       "['.DS_Store',\n",
       " 'original',\n",
       " 'user_log_format1.csv',\n",
       " 'test_format2.csv',\n",
       " 'user_info_format1.csv',\n",
       " 'test_format1.csv',\n",
       " 'train_format2.csv',\n",
       " 'train_format1.csv']"
      ]
     },
     "execution_count": 1,
     "metadata": {},
     "output_type": "execute_result"
    }
   ],
   "source": [
    "import os\n",
    "os.chdir(\"/Users/yeeun/Documents/dev/project/TRIT/Trit_tmall/DATA\")\n",
    "os.listdir(\"/Users/yeeun/Documents/dev/project/TRIT/Trit_tmall/DATA\")"
   ]
  },
  {
   "cell_type": "code",
   "execution_count": 51,
   "metadata": {},
   "outputs": [],
   "source": [
    "import pandas as pd\n",
    "import numpy as np\n",
    "import seaborn as sns\n",
    "\n",
    "% matplotlib inline\n",
    "import matplotlib.pyplot as plt"
   ]
  },
  {
   "cell_type": "markdown",
   "metadata": {},
   "source": [
    "## 데이터 불러오기 & 원하는 데이터 만들기 "
   ]
  },
  {
   "cell_type": "code",
   "execution_count": 4,
   "metadata": {},
   "outputs": [],
   "source": [
    "user_log = pd.read_csv(\"user_log_format1.csv\")"
   ]
  },
  {
   "cell_type": "code",
   "execution_count": 5,
   "metadata": {},
   "outputs": [
    {
     "data": {
      "text/html": [
       "<div>\n",
       "<style>\n",
       "    .dataframe thead tr:only-child th {\n",
       "        text-align: right;\n",
       "    }\n",
       "\n",
       "    .dataframe thead th {\n",
       "        text-align: left;\n",
       "    }\n",
       "\n",
       "    .dataframe tbody tr th {\n",
       "        vertical-align: top;\n",
       "    }\n",
       "</style>\n",
       "<table border=\"1\" class=\"dataframe\">\n",
       "  <thead>\n",
       "    <tr style=\"text-align: right;\">\n",
       "      <th></th>\n",
       "      <th>user_id</th>\n",
       "      <th>item_id</th>\n",
       "      <th>cat_id</th>\n",
       "      <th>seller_id</th>\n",
       "      <th>brand_id</th>\n",
       "      <th>time_stamp</th>\n",
       "      <th>action_type</th>\n",
       "    </tr>\n",
       "  </thead>\n",
       "  <tbody>\n",
       "    <tr>\n",
       "      <th>0</th>\n",
       "      <td>328862</td>\n",
       "      <td>323294</td>\n",
       "      <td>833</td>\n",
       "      <td>2882</td>\n",
       "      <td>2661.0</td>\n",
       "      <td>829</td>\n",
       "      <td>0</td>\n",
       "    </tr>\n",
       "    <tr>\n",
       "      <th>1</th>\n",
       "      <td>328862</td>\n",
       "      <td>844400</td>\n",
       "      <td>1271</td>\n",
       "      <td>2882</td>\n",
       "      <td>2661.0</td>\n",
       "      <td>829</td>\n",
       "      <td>0</td>\n",
       "    </tr>\n",
       "    <tr>\n",
       "      <th>2</th>\n",
       "      <td>328862</td>\n",
       "      <td>575153</td>\n",
       "      <td>1271</td>\n",
       "      <td>2882</td>\n",
       "      <td>2661.0</td>\n",
       "      <td>829</td>\n",
       "      <td>0</td>\n",
       "    </tr>\n",
       "    <tr>\n",
       "      <th>3</th>\n",
       "      <td>328862</td>\n",
       "      <td>996875</td>\n",
       "      <td>1271</td>\n",
       "      <td>2882</td>\n",
       "      <td>2661.0</td>\n",
       "      <td>829</td>\n",
       "      <td>0</td>\n",
       "    </tr>\n",
       "    <tr>\n",
       "      <th>4</th>\n",
       "      <td>328862</td>\n",
       "      <td>1086186</td>\n",
       "      <td>1271</td>\n",
       "      <td>1253</td>\n",
       "      <td>1049.0</td>\n",
       "      <td>829</td>\n",
       "      <td>0</td>\n",
       "    </tr>\n",
       "  </tbody>\n",
       "</table>\n",
       "</div>"
      ],
      "text/plain": [
       "   user_id  item_id  cat_id  seller_id  brand_id  time_stamp  action_type\n",
       "0   328862   323294     833       2882    2661.0         829            0\n",
       "1   328862   844400    1271       2882    2661.0         829            0\n",
       "2   328862   575153    1271       2882    2661.0         829            0\n",
       "3   328862   996875    1271       2882    2661.0         829            0\n",
       "4   328862  1086186    1271       1253    1049.0         829            0"
      ]
     },
     "execution_count": 5,
     "metadata": {},
     "output_type": "execute_result"
    }
   ],
   "source": [
    "user_log.head()"
   ]
  },
  {
   "cell_type": "code",
   "execution_count": 14,
   "metadata": {},
   "outputs": [],
   "source": [
    "merchant = user_log[['seller_id', 'item_id', 'cat_id', 'brand_id']]"
   ]
  },
  {
   "cell_type": "code",
   "execution_count": 15,
   "metadata": {},
   "outputs": [
    {
     "data": {
      "text/html": [
       "<div>\n",
       "<style>\n",
       "    .dataframe thead tr:only-child th {\n",
       "        text-align: right;\n",
       "    }\n",
       "\n",
       "    .dataframe thead th {\n",
       "        text-align: left;\n",
       "    }\n",
       "\n",
       "    .dataframe tbody tr th {\n",
       "        vertical-align: top;\n",
       "    }\n",
       "</style>\n",
       "<table border=\"1\" class=\"dataframe\">\n",
       "  <thead>\n",
       "    <tr style=\"text-align: right;\">\n",
       "      <th></th>\n",
       "      <th>seller_id</th>\n",
       "      <th>item_id</th>\n",
       "      <th>cat_id</th>\n",
       "      <th>brand_id</th>\n",
       "    </tr>\n",
       "  </thead>\n",
       "  <tbody>\n",
       "    <tr>\n",
       "      <th>0</th>\n",
       "      <td>2882</td>\n",
       "      <td>323294</td>\n",
       "      <td>833</td>\n",
       "      <td>2661.0</td>\n",
       "    </tr>\n",
       "    <tr>\n",
       "      <th>1</th>\n",
       "      <td>2882</td>\n",
       "      <td>844400</td>\n",
       "      <td>1271</td>\n",
       "      <td>2661.0</td>\n",
       "    </tr>\n",
       "    <tr>\n",
       "      <th>2</th>\n",
       "      <td>2882</td>\n",
       "      <td>575153</td>\n",
       "      <td>1271</td>\n",
       "      <td>2661.0</td>\n",
       "    </tr>\n",
       "    <tr>\n",
       "      <th>3</th>\n",
       "      <td>2882</td>\n",
       "      <td>996875</td>\n",
       "      <td>1271</td>\n",
       "      <td>2661.0</td>\n",
       "    </tr>\n",
       "    <tr>\n",
       "      <th>4</th>\n",
       "      <td>1253</td>\n",
       "      <td>1086186</td>\n",
       "      <td>1271</td>\n",
       "      <td>1049.0</td>\n",
       "    </tr>\n",
       "  </tbody>\n",
       "</table>\n",
       "</div>"
      ],
      "text/plain": [
       "   seller_id  item_id  cat_id  brand_id\n",
       "0       2882   323294     833    2661.0\n",
       "1       2882   844400    1271    2661.0\n",
       "2       2882   575153    1271    2661.0\n",
       "3       2882   996875    1271    2661.0\n",
       "4       1253  1086186    1271    1049.0"
      ]
     },
     "execution_count": 15,
     "metadata": {},
     "output_type": "execute_result"
    }
   ],
   "source": [
    "merchant.head()"
   ]
  },
  {
   "cell_type": "markdown",
   "metadata": {},
   "source": [
    "## 기본적인 통계 내보기"
   ]
  },
  {
   "cell_type": "code",
   "execution_count": 20,
   "metadata": {},
   "outputs": [
    {
     "data": {
      "text/plain": [
       "seller_id      int64\n",
       "item_id        int64\n",
       "cat_id         int64\n",
       "brand_id     float64\n",
       "dtype: object"
      ]
     },
     "execution_count": 20,
     "metadata": {},
     "output_type": "execute_result"
    }
   ],
   "source": [
    "merchant.dtypes"
   ]
  },
  {
   "cell_type": "code",
   "execution_count": 47,
   "metadata": {},
   "outputs": [
    {
     "data": {
      "text/plain": [
       "3760    743217\n",
       "3828    730455\n",
       "184     613811\n",
       "1102    541374\n",
       "4173    528755\n",
       "Name: seller_id, dtype: int64"
      ]
     },
     "execution_count": 47,
     "metadata": {},
     "output_type": "execute_result"
    }
   ],
   "source": [
    "merchant['seller_id'].value_counts().head()"
   ]
  },
  {
   "cell_type": "code",
   "execution_count": 55,
   "metadata": {},
   "outputs": [
    {
     "ename": "NameError",
     "evalue": "name 'Counter' is not defined",
     "output_type": "error",
     "traceback": [
      "\u001b[0;31m---------------------------------------------------------------------------\u001b[0m",
      "\u001b[0;31mNameError\u001b[0m                                 Traceback (most recent call last)",
      "\u001b[0;32m<ipython-input-55-57a1cbb26185>\u001b[0m in \u001b[0;36m<module>\u001b[0;34m()\u001b[0m\n\u001b[0;32m----> 1\u001b[0;31m \u001b[0mCounter\u001b[0m\u001b[0;34m(\u001b[0m\u001b[0;34m[\u001b[0m\u001b[0mmerchant\u001b[0m\u001b[0;34m.\u001b[0m\u001b[0mseller_id\u001b[0m\u001b[0;34m]\u001b[0m\u001b[0;34m)\u001b[0m\u001b[0;34m\u001b[0m\u001b[0m\n\u001b[0m",
      "\u001b[0;31mNameError\u001b[0m: name 'Counter' is not defined"
     ]
    }
   ],
   "source": [
    "Counter([merchant.seller_id])"
   ]
  },
  {
   "cell_type": "code",
   "execution_count": 42,
   "metadata": {},
   "outputs": [
    {
     "data": {
      "text/plain": [
       "67897      345905\n",
       "783997     178005\n",
       "636863      82480\n",
       "631714      42771\n",
       "61518       34801\n",
       "559967      28816\n",
       "770668      28431\n",
       "94609       23027\n",
       "1059899     22242\n",
       "1024557     21045\n",
       "628774      20656\n",
       "991126      19273\n",
       "186456      18582\n",
       "416858      18209\n",
       "353560      17845\n",
       "574783      17463\n",
       "671759      17383\n",
       "899607      17103\n",
       "822352      16837\n",
       "15207       16615\n",
       "617878      16347\n",
       "191499      16232\n",
       "28895       15424\n",
       "1004098     15414\n",
       "225941      15291\n",
       "1073970     15251\n",
       "649596      15227\n",
       "276750      14490\n",
       "7915        14318\n",
       "584579      14249\n",
       "            ...  \n",
       "738493          1\n",
       "561292          1\n",
       "778829          1\n",
       "902253          1\n",
       "1053596         1\n",
       "860730          1\n",
       "443662          1\n",
       "320435          1\n",
       "102829          1\n",
       "4509            1\n",
       "336697          1\n",
       "385938          1\n",
       "287650          1\n",
       "397661          1\n",
       "435017          1\n",
       "41865           1\n",
       "451570          1\n",
       "83454           1\n",
       "680547          1\n",
       "659677          1\n",
       "692429          1\n",
       "50638           1\n",
       "844467          1\n",
       "58163           1\n",
       "1089930         1\n",
       "1020013         1\n",
       "181646          1\n",
       "385939          1\n",
       "345470          1\n",
       "635280          1\n",
       "Name: item_id, Length: 1090390, dtype: int64"
      ]
     },
     "execution_count": 42,
     "metadata": {},
     "output_type": "execute_result"
    }
   ],
   "source": [
    "merchant['item_id'].value_counts()"
   ]
  },
  {
   "cell_type": "code",
   "execution_count": 43,
   "metadata": {},
   "outputs": [
    {
     "data": {
      "text/plain": [
       "662     4339025\n",
       "737     1749753\n",
       "1505    1724239\n",
       "389     1621736\n",
       "656     1538969\n",
       "1349    1374482\n",
       "1142    1265446\n",
       "602     1248070\n",
       "1577    1216159\n",
       "1095    1155256\n",
       "1438     933702\n",
       "177      932113\n",
       "407      879524\n",
       "821      864373\n",
       "1553     848239\n",
       "1467     796754\n",
       "302      769658\n",
       "1075     723725\n",
       "1238     712257\n",
       "1208     711145\n",
       "1188     698996\n",
       "664      673125\n",
       "1213     663906\n",
       "1271     660025\n",
       "1389     612536\n",
       "1397     608386\n",
       "1023     600386\n",
       "420      571924\n",
       "351      570235\n",
       "267      520355\n",
       "         ...   \n",
       "899           1\n",
       "92            1\n",
       "879           1\n",
       "473           1\n",
       "881           1\n",
       "232           1\n",
       "1351          1\n",
       "1473          1\n",
       "482           1\n",
       "856           1\n",
       "961           1\n",
       "105           1\n",
       "146           1\n",
       "487           1\n",
       "1487          1\n",
       "263           1\n",
       "1002          1\n",
       "1618          1\n",
       "1275          1\n",
       "98            1\n",
       "341           1\n",
       "449           1\n",
       "625           1\n",
       "336           1\n",
       "334           1\n",
       "1364          1\n",
       "920           1\n",
       "572           1\n",
       "1012          1\n",
       "1182          1\n",
       "Name: cat_id, Length: 1658, dtype: int64"
      ]
     },
     "execution_count": 43,
     "metadata": {},
     "output_type": "execute_result"
    }
   ],
   "source": [
    "merchant['cat_id'].value_counts()"
   ]
  },
  {
   "cell_type": "code",
   "execution_count": 44,
   "metadata": {},
   "outputs": [
    {
     "data": {
      "text/plain": [
       "3738.0    763345\n",
       "1360.0    737545\n",
       "1446.0    729555\n",
       "1214.0    541075\n",
       "5376.0    528003\n",
       "82.0      503911\n",
       "2276.0    491738\n",
       "8235.0    400024\n",
       "4705.0    363417\n",
       "1662.0    332633\n",
       "5434.0    323647\n",
       "3969.0    322963\n",
       "2104.0    318715\n",
       "4073.0    299629\n",
       "7069.0    291054\n",
       "376.0     285811\n",
       "6143.0    250677\n",
       "4874.0    236872\n",
       "6938.0    231035\n",
       "6065.0    227288\n",
       "3650.0    221162\n",
       "4290.0    212132\n",
       "3700.0    211271\n",
       "7749.0    210949\n",
       "6585.0    204407\n",
       "6742.0    189040\n",
       "4509.0    188110\n",
       "1573.0    176227\n",
       "1859.0    162407\n",
       "1128.0    160208\n",
       "           ...  \n",
       "1889.0         1\n",
       "5792.0         1\n",
       "5532.0         1\n",
       "2115.0         1\n",
       "2348.0         1\n",
       "5437.0         1\n",
       "2342.0         1\n",
       "5175.0         1\n",
       "5177.0         1\n",
       "5189.0         1\n",
       "7962.0         1\n",
       "2306.0         1\n",
       "5210.0         1\n",
       "5236.0         1\n",
       "5271.0         1\n",
       "2268.0         1\n",
       "2259.0         1\n",
       "2243.0         1\n",
       "2241.0         1\n",
       "5297.0         1\n",
       "5317.0         1\n",
       "2216.0         1\n",
       "5333.0         1\n",
       "7894.0         1\n",
       "5348.0         1\n",
       "7257.0         1\n",
       "2163.0         1\n",
       "5415.0         1\n",
       "2149.0         1\n",
       "3453.0         1\n",
       "Name: brand_id, Length: 8443, dtype: int64"
      ]
     },
     "execution_count": 44,
     "metadata": {},
     "output_type": "execute_result"
    }
   ],
   "source": [
    "merchant['brand_id'].value_counts()"
   ]
  },
  {
   "cell_type": "code",
   "execution_count": null,
   "metadata": {},
   "outputs": [],
   "source": [
    "전체적으로 보면 잘 팔리는 물건들이 정해져 있는 것을 볼 수 있음. "
   ]
  },
  {
   "cell_type": "code",
   "execution_count": null,
   "metadata": {},
   "outputs": [],
   "source": []
  },
  {
   "cell_type": "code",
   "execution_count": null,
   "metadata": {},
   "outputs": [],
   "source": []
  },
  {
   "cell_type": "code",
   "execution_count": null,
   "metadata": {},
   "outputs": [],
   "source": []
  },
  {
   "cell_type": "code",
   "execution_count": null,
   "metadata": {},
   "outputs": [],
   "source": []
  }
 ],
 "metadata": {
  "kernelspec": {
   "display_name": "Python 3",
   "language": "python",
   "name": "python3"
  },
  "language_info": {
   "codemirror_mode": {
    "name": "ipython",
    "version": 3
   },
   "file_extension": ".py",
   "mimetype": "text/x-python",
   "name": "python",
   "nbconvert_exporter": "python",
   "pygments_lexer": "ipython3",
   "version": "3.6.3"
  }
 },
 "nbformat": 4,
 "nbformat_minor": 2
}
